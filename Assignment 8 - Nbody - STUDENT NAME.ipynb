{
 "cells": [
  {
   "cell_type": "markdown",
   "id": "6464053b-193d-48ee-9eb5-6b389f8be63a",
   "metadata": {},
   "source": [
    "# N-body Simulations\n",
    "\n",
    "## Authors\n",
    "B.W. Holwerda and Rhett Allain\n",
    "\n",
    "## Learning Goals\n",
    "* Gravity-only simulations\n",
    "* The 3-body problem\n",
    "* Longevity of kinematic systems\n",
    "\n",
    "\n",
    "## Keywords\n",
    "Kepler, N-body simulations, gravity\n",
    "\n",
    "## Companion Content\n",
    "\n",
    "Chapter 14 in Ryden & Peterson\n",
    "\n",
    "Chapter 19 in Carroll & Ostlie\n",
    "\n",
    "## Summary\n",
    "\n",
    "based on the Medium article here: \n",
    "\n",
    "https://rjallain.medium.com/python-in-astrophysics-creating-an-n-body-simulation-da8f632e6740\n",
    "\n",
    "Using a pre-set function, we explore different scenarios using this N-body code that runs in the Jupyter Notebook\n",
    "This is a series of animations to execute and using Newtonian gravity play forward in time. The students can evolve their choice of input and visually inspect the result after some time. \n",
    "\n",
    "<hr>\n"
   ]
  },
  {
   "cell_type": "code",
   "execution_count": 2,
   "id": "530cf409-7b8a-47c1-8a4e-7b03656f1bcc",
   "metadata": {},
   "outputs": [
    {
     "data": {
      "text/html": [
       "<div id=\"glowscript\" class=\"glowscript\"></div>"
      ],
      "text/plain": [
       "<IPython.core.display.HTML object>"
      ]
     },
     "metadata": {},
     "output_type": "display_data"
    },
    {
     "data": {
      "application/javascript": [
       "if (typeof Jupyter !== \"undefined\") { window.__context = { glowscript_container: $(\"#glowscript\").removeAttr(\"id\")};}else{ element.textContent = ' ';}"
      ],
      "text/plain": [
       "<IPython.core.display.Javascript object>"
      ]
     },
     "metadata": {},
     "output_type": "display_data"
    }
   ],
   "source": [
    "import numpy as np\n",
    "import matplotlib.pyplot as plt\n",
    "import matplotlib as mpl\n",
    "import scipy.ndimage as ndi\n",
    "from astropy.visualization import simple_norm\n",
    "from astropy.modeling import models\n",
    "# import photutils\n",
    "import time\n",
    "# import statmorph\n",
    "%matplotlib inline\n",
    "\n",
    "from astropy.io import fits\n",
    "from astropy.utils.data import get_pkg_data_filename\n",
    "#from reproject import reproject_interp\n",
    "\n",
    "from astropy.table import Table\n",
    "from glob import glob\n",
    "\n",
    "from matplotlib import rcParams\n",
    "rcParams[\"savefig.dpi\"] = 150\n",
    "rcParams[\"figure.dpi\"] = 150\n",
    "rcParams[\"font.size\"] = 12\n",
    "\n",
    "from astropy.io import ascii\n",
    "from astropy.table import QTable, Table, Column\n",
    "from astropy import units as u\n",
    "from vpython import *"
   ]
  },
  {
   "cell_type": "code",
   "execution_count": 3,
   "id": "e53b757d-d5c2-4579-830c-baf29bae256a",
   "metadata": {},
   "outputs": [],
   "source": [
    "\n",
    "def Nbody(N = 60, rs = 0.03, central=True, M2=0., t_final=10, ellipticity=1.):\n",
    "    G = .01\n",
    "    M = 1\n",
    "    R = 1\n",
    "    n = 0\n",
    "    \n",
    "    # initializing the canvas\n",
    "    canvas(width=600, height=300, background=color.black)\n",
    "\n",
    "    stars = []\n",
    "    w = vector(0,0.5,0)\n",
    "    m = M/N\n",
    "    if central == True:\n",
    "        bstar = sphere(pos=vector(0,0,0),radius=R/20, color=color.red)\n",
    "        if M2 == 0.:\n",
    "            M2 = M/10\n",
    "\n",
    "\n",
    "    while n<N:\n",
    "        rt = R*vector(2*random()-1,ellipticity*2*random()-1,ellipticity*2*random()-1)\n",
    "        if mag(rt)<R:\n",
    "            stars = stars + [sphere(pos=rt,radius=R/60,make_trail=False,retain=70)]\n",
    "            n = n + 1\n",
    "  \n",
    "    v0 = 0.1\n",
    "    for star in stars:\n",
    "        star.m = m\n",
    "        star.p = star.m*cross(w,vector(star.pos.x,0,star.pos.z))\n",
    "        #star.p = star.m*v0*vector(2*random()-1,2*random()-1,2*random()-1)\n",
    "        star.F = vector(0,0,0)\n",
    "\n",
    "    t = 0\n",
    "    dt = 0.01\n",
    "\n",
    "    while t<t_final:\n",
    "        rate(100)\n",
    "        for star in stars:\n",
    "            star.F = vector(0,0,0)\n",
    "        for i in range(len(stars)):\n",
    "            for j in range(len(stars)):\n",
    "                if i != j:\n",
    "                    rij = stars[j].pos - stars[i].pos\n",
    "                    stars[j].F = stars[j].F - G*stars[j].m*stars[i].m*norm(rij)/(mag(rij)**2+rs**2)-G*stars[j].m*M2*norm(stars[j].pos)/(mag(stars[j].pos)**2+rs**2)\n",
    "  \n",
    "        for star in stars:\n",
    "            star.p = star.p + star.F*dt\n",
    "            star.pos = star.pos + star.p*dt/star.m\n",
    "        t = t + dt\n",
    "#Nbody(N = 160, rs = 0.03, central=True, M2=0.2)"
   ]
  },
  {
   "cell_type": "markdown",
   "id": "2357a576-9d40-4845-9295-981ac1ec14a0",
   "metadata": {},
   "source": [
    "# Running the N-body simulator\n",
    "\n",
    "The above simulator can be called with a range of objects (N) a radius (rs), whether there is a source in the center (central=True/False), \n",
    "the central mass expressed as a multiple of the other objects (M2), the final stopping time (t_final), and the ellipticity of the starting distribution (ellipticity).\n",
    "\n",
    "IMPORTANT: RUN THESE ONE AT A TIME. Otherwise it is a quick way to overload the server. "
   ]
  },
  {
   "cell_type": "markdown",
   "id": "1ee11855-606b-471d-a548-53d2590ba9ba",
   "metadata": {},
   "source": [
    "### Assigment 1. -- The 3-body problem\n",
    "\n",
    "Try the 3-body problem with the above visualization. Ensure that all three elements are equal in mass. \n"
   ]
  },
  {
   "cell_type": "code",
   "execution_count": 11,
   "id": "63834f0e-668f-4fb6-95e5-959e0d23087f",
   "metadata": {},
   "outputs": [
    {
     "data": {
      "text/html": [
       "<div id=\"glowscript\" class=\"glowscript\"></div>"
      ],
      "text/plain": [
       "<IPython.core.display.HTML object>"
      ]
     },
     "metadata": {},
     "output_type": "display_data"
    },
    {
     "data": {
      "application/javascript": [
       "if (typeof Jupyter !== \"undefined\") { window.__context = { glowscript_container: $(\"#glowscript\").removeAttr(\"id\")};}else{ element.textContent = ' ';}"
      ],
      "text/plain": [
       "<IPython.core.display.Javascript object>"
      ]
     },
     "metadata": {},
     "output_type": "display_data"
    }
   ],
   "source": [
    "# student work here\n"
   ]
  },
  {
   "cell_type": "markdown",
   "id": "8919912b-c125-441e-af9c-0ab787974e9e",
   "metadata": {},
   "source": [
    "### Assigment 2. -- The 3-body problem\n",
    "\n",
    "Try the 3-body problem with the above visualization. Ensure that all two elements are equal in mass and one twice as massive. \n",
    "Run the final time longer to see if the 3-body system is stable this way."
   ]
  },
  {
   "cell_type": "code",
   "execution_count": 16,
   "id": "9fe63c88-6779-4e51-a3dc-86866a148fb7",
   "metadata": {},
   "outputs": [
    {
     "data": {
      "text/html": [
       "<div id=\"glowscript\" class=\"glowscript\"></div>"
      ],
      "text/plain": [
       "<IPython.core.display.HTML object>"
      ]
     },
     "metadata": {},
     "output_type": "display_data"
    },
    {
     "data": {
      "application/javascript": [
       "if (typeof Jupyter !== \"undefined\") { window.__context = { glowscript_container: $(\"#glowscript\").removeAttr(\"id\")};}else{ element.textContent = ' ';}"
      ],
      "text/plain": [
       "<IPython.core.display.Javascript object>"
      ]
     },
     "metadata": {},
     "output_type": "display_data"
    }
   ],
   "source": [
    "# student work here\n"
   ]
  },
  {
   "cell_type": "markdown",
   "id": "b6ff3e87-47fa-47a6-ba58-393bdefa5223",
   "metadata": {},
   "source": [
    "### Assigment 3. -- The early Solar System \n",
    "\n",
    "We will start with a mass in the center and a hundred particles around it. This is a good approximation of the early Solar System's birth cloud around the central young Sun (M2=0). "
   ]
  },
  {
   "cell_type": "code",
   "execution_count": 1,
   "id": "39cefb06-40f4-4dd5-ad44-e1e49f0271b7",
   "metadata": {},
   "outputs": [],
   "source": [
    "# student work here\n",
    "\n"
   ]
  },
  {
   "cell_type": "markdown",
   "id": "5bd97681-91d5-43a0-bd96-5e7612227a58",
   "metadata": {},
   "source": [
    "### Assigment 4. -- The early Solar System \n",
    "\n",
    "What do you see if the particles are left to orbit? Does it flatten out into a disk? Does it stay that way? "
   ]
  },
  {
   "cell_type": "markdown",
   "id": "18dd347a-c6dd-4f73-84bf-99d89b72d9d7",
   "metadata": {},
   "source": [
    "*stuent written answer here*"
   ]
  },
  {
   "cell_type": "markdown",
   "id": "c9566600-30b2-45e6-9a3b-a59bbd5466b0",
   "metadata": {},
   "source": [
    "# Why does the Solar Systen flatten out?\n",
    "\n",
    "Why? Why does it do this? Let’s start with a giant cloud of rotating rocks. In the reference frame of the rotating system, there are two forces on each rock. There’s the total gravitational force. This mostly points towards the center of the cloud. Next, there is the fake centrifugal force due to the rotation of the cloud. This points directly away from the y-axis (the axis of rotation).\n",
    "For rocks near the poles (top or bottom), the centrifugal force is tiny so that it only experiences a downward gravitational force. Objects in the plane of the solar system have a larger centrifugal force that is in the opposite direction as the gravitational force so they don’t collapse towards the center.\n",
    "\n",
    "What is missing is the *rotation* of the early Solar System. \n"
   ]
  },
  {
   "cell_type": "markdown",
   "id": "99ec7318-b899-43c7-8056-fe4b881ed045",
   "metadata": {},
   "source": [
    "### Assigment 4. -- Globular Cluster\n",
    "\n",
    "Make a big number of equal mass particles and no dominant mass in the center. "
   ]
  },
  {
   "cell_type": "code",
   "execution_count": 3,
   "id": "b25284cd-aba2-48f7-b658-85fa99569cf0",
   "metadata": {},
   "outputs": [],
   "source": [
    "# student work here\n",
    "\n"
   ]
  },
  {
   "cell_type": "markdown",
   "id": "c8aac680-9e21-4836-ae5d-d164d4255710",
   "metadata": {},
   "source": [
    "### Assigment 5. -- Globular Cluster\n",
    "\n",
    "What happens to the globular cluster longer term? Does it still have all its members? "
   ]
  },
  {
   "cell_type": "markdown",
   "id": "b46a2ee4-4bda-4081-8ee3-2842429a389f",
   "metadata": {},
   "source": [
    "*student written answer here*"
   ]
  },
  {
   "cell_type": "markdown",
   "id": "b6baba20-b66c-40c0-8053-0459ff184e24",
   "metadata": {},
   "source": [
    "###### Assigment 6. -- Disk Galaxy\n",
    "\n",
    "Make a small galaxy (same size as the globular cluster) but very flat (low ellipticity)."
   ]
  },
  {
   "cell_type": "code",
   "execution_count": 5,
   "id": "540fa813-6e0f-45bb-a154-ae69ead48b27",
   "metadata": {},
   "outputs": [],
   "source": [
    "# student work here\n"
   ]
  },
  {
   "cell_type": "markdown",
   "id": "2a64a763-2ac1-4a23-8bd6-d1cecf852c1d",
   "metadata": {},
   "source": [
    "<hr>"
   ]
  }
 ],
 "metadata": {
  "kernelspec": {
   "display_name": "Python 3 (ipykernel)",
   "language": "python",
   "name": "python3"
  },
  "language_info": {
   "codemirror_mode": {
    "name": "ipython",
    "version": 3
   },
   "file_extension": ".py",
   "mimetype": "text/x-python",
   "name": "python",
   "nbconvert_exporter": "python",
   "pygments_lexer": "ipython3",
   "version": "3.12.3"
  }
 },
 "nbformat": 4,
 "nbformat_minor": 5
}
