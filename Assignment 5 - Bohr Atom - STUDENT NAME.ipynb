{
 "cells": [
  {
   "cell_type": "markdown",
   "id": "57b98b23-0b1d-48d3-a58d-f83c1166cb58",
   "metadata": {},
   "source": [
    "# Emission Lines of the Bohr Atom\n",
    "\n",
    "## Authors\n",
    "B.W. Holwerda\n",
    "\n",
    "## Learning Goals\n",
    "* Hydrogen Line series; Lyman, Balmer, Paschen\n",
    "* the Bohr Atom\n",
    "* Emission line wavelength and energy level\n",
    "\n",
    "\n",
    "## Keywords\n",
    "\n",
    "\n",
    "## Companion Content\n",
    "\n",
    "Chapter 5 in Ryden & Peterson\n",
    "\n",
    "Chapter 3 and 5 in Carroll & Ostlie\n",
    "\n",
    "## Summary\n",
    "\n",
    "Using the empirical relation for hydrogen lines found in the 19th century, we explore their wavelength distribution and Energy transitions. This phenomelogical description led to the Bohr Atom, the basis for quantum mechanics. \n",
    "\n",
    "<hr>"
   ]
  },
  {
   "cell_type": "markdown",
   "id": "3334707d-ac9c-4ec1-ad02-4e95234170f4",
   "metadata": {},
   "source": [
    "\n",
    "## Student Name and ID:\n",
    "\n",
    "\n",
    "\n",
    "## Date:\n",
    "\n",
    "<hr>"
   ]
  },
  {
   "cell_type": "markdown",
   "id": "37703d46-bccd-459f-9d46-d20a236a3e44",
   "metadata": {},
   "source": [
    "Spectral lines of the Hydrogen atom can be described using a generalized formula by Johann Balmer:\n",
    "\n",
    "$$ {1 \\over \\lambda}  = R_H \\left({ 1\\over m^2 } - {1 \\over n^2}\\right) $$\n",
    "\n",
    "where $m< n$. \n",
    "\n",
    "This is purely phenomelogical, i.e. a model that works and can predict the next measurement without an underlying explanation.   \n",
    "\n",
    "One can think of n as the lowest state for the electron and m as the one it drops from releasing the photon. \n",
    "This constitutes the Hydrogen *series*: Lyman, Balmer, and Paschen. "
   ]
  },
  {
   "cell_type": "code",
   "execution_count": 304,
   "id": "f2aaaf9c-45fb-45fa-81be-29759493eca4",
   "metadata": {},
   "outputs": [],
   "source": [
    "import numpy as np\n",
    "import matplotlib.pyplot as plt\n",
    "\n",
    "from matplotlib import rcParams\n",
    "rcParams[\"savefig.dpi\"] = 150\n",
    "rcParams[\"figure.dpi\"] = 150\n",
    "rcParams[\"font.size\"] = 15"
   ]
  },
  {
   "cell_type": "markdown",
   "id": "10105f6f-f953-4f52-8476-59096aac9af1",
   "metadata": {},
   "source": [
    "### Exercise 1\n",
    "\n",
    "Go through values for m and n ranging from 1 to 10. Compute a list of line wavelengths and print these out. Use the function below in your loop. HINT: do not forget about the requirement in the Balmer formulation! Use an if statement."
   ]
  },
  {
   "cell_type": "code",
   "execution_count": 1,
   "id": "c40eca2c-f256-430e-8ee3-c598cf1f0cf9",
   "metadata": {},
   "outputs": [],
   "source": [
    "def wav(m,n):\n",
    "    RH = 1.09677583*10**7\n",
    "    inv_lam = RH*( (1./m**2) - (1./n**2))\n",
    "    return 1./inv_lam\n",
    "\n",
    "#student work below\n"
   ]
  },
  {
   "cell_type": "markdown",
   "id": "8d863515-2880-4f06-8894-520f9d137141",
   "metadata": {},
   "source": [
    "### Exercise 2\n",
    "\n",
    "Sort the list above from short to long wavelength. The visible range is from 340 to 790 nm. How many of these lines lie in this range? "
   ]
  },
  {
   "cell_type": "code",
   "execution_count": 3,
   "id": "59c6038c-efbe-4f94-8c32-d1bdbcc9e77d",
   "metadata": {},
   "outputs": [],
   "source": [
    "# student work here\n"
   ]
  },
  {
   "cell_type": "markdown",
   "id": "1d93e727-bc84-4b01-94eb-9293a093c06f",
   "metadata": {},
   "source": [
    "### Exercise 3\n",
    "\n",
    "Plot the lines using plt.plot and a vertical line as the marker. HINT: use np.zeros or np.ones and the len() function to generate the y-values."
   ]
  },
  {
   "cell_type": "code",
   "execution_count": 5,
   "id": "44f3dd21-eb81-4b32-9b1e-376cac177d40",
   "metadata": {},
   "outputs": [],
   "source": [
    "# student work here\n"
   ]
  },
  {
   "cell_type": "markdown",
   "id": "299ec4a4-636c-4073-a2e5-12d7f3870a85",
   "metadata": {},
   "source": [
    "### Exercise 4\n",
    "\n",
    "Where can most of the Hydrogen lines be found? Ultraviolet, visible or infrared?"
   ]
  },
  {
   "cell_type": "markdown",
   "id": "8fa8264d-8eb2-4a9e-9e4c-2da9b17a7195",
   "metadata": {},
   "source": [
    "*student written answer here*"
   ]
  },
  {
   "cell_type": "markdown",
   "id": "24b25ae2-ef5a-46dc-aa29-0deb1d61047a",
   "metadata": {},
   "source": [
    "### Exercise 5\n",
    "\n",
    "Using your plot, can one detect Hydrogen in the infrared?"
   ]
  },
  {
   "cell_type": "markdown",
   "id": "919597c9-f04c-41da-b316-a6452c824577",
   "metadata": {},
   "source": [
    "*student written answer here*"
   ]
  },
  {
   "cell_type": "markdown",
   "id": "e3dc6029-a303-43d6-887c-6dd8cd0b1822",
   "metadata": {},
   "source": [
    "# Photon Energy\n",
    "\n",
    "The Bohr model works because of the discrete levels \"allowed\" in the atom. If one takes the energy of each photon to be \n",
    "$E_{photon} = {hc \\over \\lambda}$, this can also be seen as discrete energies. Where an electron in the Bohr atom drops from the higher state $n$ down to a lower one $m$, the binding energy lost is:\n",
    "\n",
    "$$ {hc \\over \\lambda} = -13.6 \\ eV \\ \\times ({1 \\over m^2} - {1 \\over n^2}) $$\n",
    "\n",
    "This energy is what the photon takes away from the atom when emitted. "
   ]
  },
  {
   "cell_type": "markdown",
   "id": "a76ee44b-a255-4eba-b5b3-823424a2ec30",
   "metadata": {},
   "source": [
    "### Exercise 6\n",
    "\n",
    "Copy what you did in Exercise 1 but now calculate the energies for each photon as well. Make sure to put it in a list like your did before. "
   ]
  },
  {
   "cell_type": "code",
   "execution_count": 7,
   "id": "2b15fb91-5848-4f09-b20a-fb9275030911",
   "metadata": {},
   "outputs": [],
   "source": [
    "# student work here\n"
   ]
  },
  {
   "cell_type": "markdown",
   "id": "9a018e8c-a0d0-4f36-81c8-9dbdbd3b179d",
   "metadata": {},
   "source": [
    "### Exercise 7\n",
    "\n",
    "Make a plot of the wavelength vs energy of the photons involved for the Bohr lines. "
   ]
  },
  {
   "cell_type": "code",
   "execution_count": 10,
   "id": "61318fdc-c934-4cfa-ab85-c4b94d573e44",
   "metadata": {},
   "outputs": [],
   "source": [
    "# student work below\n"
   ]
  },
  {
   "cell_type": "markdown",
   "id": "f2fbb50a-68d0-4f70-bac5-38afeb50f6b6",
   "metadata": {},
   "source": [
    "### Exercise 8 \n",
    "\n",
    "Do these energies explain any emission lines we see in the x-ray? Motivate why or why not."
   ]
  },
  {
   "cell_type": "markdown",
   "id": "3e79f020-6289-40c7-8a68-03c8a4b3c1ec",
   "metadata": {},
   "source": [
    "*student written answer here*"
   ]
  },
  {
   "cell_type": "markdown",
   "id": "46db20da-289d-4181-a124-f09af8d48ac1",
   "metadata": {},
   "source": [
    "### Exercise 9 \n",
    "\n",
    "The longest wavelength Hydrogen lines in your collection, are these transitions to the lowest state? (solve either through printing all the m and n values or plotting them)."
   ]
  },
  {
   "cell_type": "code",
   "execution_count": 12,
   "id": "353fa05e-c292-492c-8ce9-f078b67201b6",
   "metadata": {},
   "outputs": [],
   "source": [
    "#student work here\n"
   ]
  },
  {
   "cell_type": "markdown",
   "id": "c9cf25f2-53ac-41ec-a510-450a19ab64fa",
   "metadata": {},
   "source": [
    "<hr>"
   ]
  }
 ],
 "metadata": {
  "kernelspec": {
   "display_name": "Python 3 (ipykernel)",
   "language": "python",
   "name": "python3"
  },
  "language_info": {
   "codemirror_mode": {
    "name": "ipython",
    "version": 3
   },
   "file_extension": ".py",
   "mimetype": "text/x-python",
   "name": "python",
   "nbconvert_exporter": "python",
   "pygments_lexer": "ipython3",
   "version": "3.12.3"
  }
 },
 "nbformat": 4,
 "nbformat_minor": 5
}
