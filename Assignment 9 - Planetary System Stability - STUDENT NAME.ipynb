{
 "cells": [
  {
   "cell_type": "markdown",
   "id": "bad13159-9607-4bc2-b453-639a95cec219",
   "metadata": {},
   "source": [
    "# Stability of Planetary Systems\n",
    "\n",
    "## Authors\n",
    "M. Zingale and B.W. Holwerda\n",
    "\n",
    "## Learning Goals\n",
    "* planetary system stability\n",
    "* Hill Sphere\n",
    "* Tidal effects\n",
    "\n",
    "## Keywords\n",
    "\n",
    "\n",
    "## Companion Content\n",
    "\n",
    "Chapter 14 in Ryden & Peterson\n",
    "\n",
    "Chapter 19 in Carroll & Ostlie\n",
    "\n",
    "## Summary\n",
    "\n",
    "Examining several setups of planery systems such as our own Solar System and a known multi-planet exoplanet system. Does each configuration stay stable over longer term or is a planet ejected? \n",
    "\n",
    "King Oscar II of Sweden sponsored an international mathematics competition in the late 19th century to address this very question. French mathematician Henri Poincaré won the prize by demonstrating the chaotic nature of the three-body problem, implying that predicting planetary motions with certainty over extremely long timescales is impossible. \n",
    "\n",
    "<hr>\n"
   ]
  },
  {
   "cell_type": "markdown",
   "id": "8db76934-6c47-40b3-88e2-7b388c3360fc",
   "metadata": {},
   "source": [
    "\n",
    "## Student Name and ID:\n",
    "\n",
    "\n",
    "\n",
    "## Date:\n",
    "\n",
    "<hr>"
   ]
  },
  {
   "cell_type": "markdown",
   "id": "b544ec4f-fdd7-4eec-b6ac-1226d8a9c961",
   "metadata": {},
   "source": [
    "# Application: Stability of Planetary Systems"
   ]
  },
  {
   "cell_type": "markdown",
   "id": "247009cc-d67e-43fd-a74d-98c6a738109c",
   "metadata": {},
   "source": [
    "Planetary systems are an example of a few-body problem --- each planet exerts a gravitational force on the others, in addition to the dominant gravitation influence of the central star.  If the planets get too close, then collisions or ejections can occur."
   ]
  },
  {
   "cell_type": "markdown",
   "id": "374c86f9-b147-4338-8fda-e989d47092b7",
   "metadata": {},
   "source": [
    "## Hill radius\n",
    "\n",
    "An important concept in plantary dynamics is the *mutual Hill radius*, $R_h$, which measures how much one planet affects another through their gravitational attraction at closest encounter:\n",
    "\n",
    "$$R_h = \\frac{a_1 + a_2}{2} \\left ( \\frac{M_1 + M_2}{M_\\star} \\right )^{1/3}$$\n",
    "\n",
    "where $a_1$ and $a_2$ are the radii of the planet orbits and $M_1$ and $M_2$ are their masses\n",
    "(this is closely related to the [Hill sphere](https://en.wikipedia.org/wiki/Hill_sphere)) and we define the separation between planets 1 and 2 (in circular orbits).\n",
    "\n",
    "The separation between to planets relative to their hill radius is:\n",
    "\n",
    "$$\\Delta = \\frac{a_2 - a_1}{R_h}$$\n",
    "\n",
    "(assuming $a_2 > a_1$)."
   ]
  },
  {
   "cell_type": "markdown",
   "id": "a0ec435c-fc06-4b2d-a5c2-44093d18aab0",
   "metadata": {},
   "source": [
    "For a system with 2 planets, it turns out that the orbits are stable as long as $\\Delta \\gtrsim 3.5$ (see, e.g., [Gladman 1993](https://ui.adsabs.harvard.edu/abs/1993Icar..106..247G/abstract)).  For more than 2 planets, there is no simple constraint on $\\Delta$, but less massive planets with larger spacings tend to be more stable, and the stability criteria depends on how long you want the system to remain stable (see, e.g., [Smith & Lissauer 2009](https://ui.adsabs.harvard.edu/abs/2009Icar..201..381S/abstract), [Morrison & Kratter 2016](https://iopscience.iop.org/article/10.3847/0004-637X/823/2/118))."
   ]
  },
  {
   "cell_type": "markdown",
   "id": "a49f5b93-d97d-421f-8b96-97282053ab44",
   "metadata": {},
   "source": [
    "We will attempt to model the stability of a system like [HR 8799](https://en.wikipedia.org/wiki/HR_8799).  A recent investigation of this system was done in [Götberg et al. 2016](https://www.aanda.org/articles/aa/full_html/2016/08/aa26309-15/aa26309-15.html) which found many configurations are unstable to the estimated age of this explanetary system."
   ]
  },
  {
   "cell_type": "code",
   "execution_count": 8,
   "id": "77787546-a939-4f40-9abb-28dca0551920",
   "metadata": {},
   "outputs": [],
   "source": [
    "import numpy as np\n",
    "import matplotlib.pyplot as plt\n",
    "\n",
    "from matplotlib import rcParams\n",
    "rcParams[\"savefig.dpi\"] = 150\n",
    "rcParams[\"figure.dpi\"] = 150\n",
    "rcParams[\"font.size\"] = 15"
   ]
  },
  {
   "cell_type": "code",
   "execution_count": 10,
   "id": "f95ab9b9-1860-40c2-88f0-d0e032ad40e0",
   "metadata": {},
   "outputs": [],
   "source": [
    "class State:\n",
    "    \"\"\"a container to hold an object\"\"\"\n",
    "\n",
    "    def __init__(self, mass, x, y, u, v):\n",
    "        self.mass = mass\n",
    "        self.x = x\n",
    "        self.y = y\n",
    "        self.u = u\n",
    "        self.v = v\n",
    "\n",
    "    def __str__(self):\n",
    "        return f\"{self.mass:10.6f}: {self.x:10.6f} {self.y:10.6f} {self.u:10.6f} {self.v:10.6f}\""
   ]
  },
  {
   "cell_type": "code",
   "execution_count": 12,
   "id": "00877702-64ca-423d-b96c-8f34594a61a5",
   "metadata": {},
   "outputs": [],
   "source": [
    "import collections"
   ]
  },
  {
   "cell_type": "markdown",
   "id": "65ebbb3e-927b-48ef-9a8d-1dbcc966ef16",
   "metadata": {},
   "source": [
    "## Integrator\n",
    "\n",
    "We will implement the 4th order sympletic integrator of [Yoshida 1990](https://ui.adsabs.harvard.edu/abs/1990PhLA..150..262Y/abstract) (see also [Wikipedia's leapfrong article](https://en.wikipedia.org/wiki/Leapfrog_integration#Yoshida_algorithms)).  This follows\n",
    "the same ideas as the velocity-Verlet method --- there is a sequemce of drifts and kicks\n",
    "arranged to make the truncation error $\\mathcal{O}(\\Delta t^4)$."
   ]
  },
  {
   "cell_type": "markdown",
   "id": "07848ed2-b788-4e5c-9afb-8bde3ad519cc",
   "metadata": {},
   "source": [
    "```{note}\n",
    "We work in units of solar masses, astronomical units, and years.\n",
    "```"
   ]
  },
  {
   "cell_type": "markdown",
   "id": "3bd3cb2e-70cf-488b-a0b1-f5aaa8872ec2",
   "metadata": {},
   "source": [
    "In setting up our solar system, we require the mass of the star and the semi-major axes and masses of the planets.  We will use circular orbits for the planets, with the initial position given a random angle about the Sun (the `seed` parameter sets the random number generator seed)."
   ]
  },
  {
   "cell_type": "markdown",
   "id": "0b571343-2674-4769-8410-189429c9e9cb",
   "metadata": {},
   "source": [
    "```{important}\n",
    "We want our system to be at rest and for the barycenter to be at the origin, so once we initialize the planets, we compute the center of mass and momentum and adjust the star's position and velocity to ensure that the center of mass is at the origin and stationary.\n",
    "This has the side-effect that the planet orbits now have a small initial eccentricity.\n",
    "```"
   ]
  },
  {
   "cell_type": "markdown",
   "id": "b7f65cba-7b28-43f8-a0da-0465ae129f53",
   "metadata": {},
   "source": [
    "Our integrator will only store the last `max_history` positions of the planets, since matplotlib can have trouble with really long integration histories.  We also will stop the integration if any of the planets gains a distance from the origin larger than `escape_radius`."
   ]
  },
  {
   "cell_type": "markdown",
   "id": "2f9ca0ce-957d-4054-8a5a-e7e2c1c9add8",
   "metadata": {},
   "source": [
    "Close encounters can be problematic.  One approach is to switch from using a sympletic integrator to a high-order time-adaptive integrator with error-control once two planets become closer than a few Hill radii (see, e.g., [Chatterjee et al. 2008](https://ui.adsabs.harvard.edu/abs/2008ApJ...686..580C/abstract))."
   ]
  },
  {
   "cell_type": "code",
   "execution_count": 20,
   "id": "2946fa24-7cf4-4252-8d75-a2751e0ed542",
   "metadata": {},
   "outputs": [],
   "source": [
    "class SolarSystem:\n",
    "    \"\"\"model the gravitational interaction of a solar system.\"\"\"\n",
    "\n",
    "    def __init__(self, M_star, *, m_planets=None, a_planets=None,\n",
    "                 max_history=50000, SMALL=1.e-30,\n",
    "                 seed=1234, escape_radius=10000):\n",
    "\n",
    "        # initialize the random number generator\n",
    "        np.random.seed(seed)\n",
    "\n",
    "        # Yoshida integrator constants\n",
    "        cbrt2 = np.cbrt(2)\n",
    "        w0 = -cbrt2 / (2 - cbrt2)\n",
    "        w1 = 1 / (2 - cbrt2)\n",
    "\n",
    "        self.c = np.array([w1 / 2, 0.5 * (w0 + w1), 0.5 * (w0 + w1), w1 / 2])\n",
    "        self.d = np.array([w1, w0, w1])\n",
    "\n",
    "        self.G = 4 * np.pi**2  # units AU**3 / (solar mass * year**2)\n",
    "        self.M_star = M_star\n",
    "\n",
    "        self.escape_radius = escape_radius\n",
    "        self.a_initial = [0] + a_planets\n",
    "        \n",
    "        # store the history of the solar system\n",
    "        self.history = collections.deque(maxlen=max_history)\n",
    "\n",
    "        # we have the star and planets\n",
    "        self.nobjects = len(m_planets) + 1\n",
    "        \n",
    "        # current solar system\n",
    "        system = []\n",
    "        \n",
    "        # store the star \n",
    "        system.append(State(M_star, 0.0, 0.0, 0.0, 0.0))\n",
    "\n",
    "        # store the planets\n",
    "        assert len(m_planets) == len(a_planets)\n",
    "\n",
    "        for m, a in zip(m_planets, a_planets):\n",
    "            # pick a random angle and then set the velocity to be circular\n",
    "            phi = np.random.uniform(0, 2.0*np.pi)\n",
    "            v_circ = np.sqrt(self.G * self.M_star / a)\n",
    "            system.append(State(m,\n",
    "                                a*np.cos(phi), a*np.sin(phi),\n",
    "                                -v_circ*np.sin(phi), v_circ*np.cos(phi)))\n",
    "        \n",
    "        # now correct the star's state so the center of mass is stationary\n",
    "        # and at the origin\n",
    "        system[0].x = -sum(s.mass * s.x for n, s in enumerate(system) if n != 0) / M_star\n",
    "        system[0].y = -sum(s.mass * s.y for n, s in enumerate(system) if n != 0) / M_star\n",
    "        system[0].u = -sum(s.mass * s.u for n, s in enumerate(system) if n != 0) / M_star\n",
    "        system[0].v = -sum(s.mass * s.v for n, s in enumerate(system) if n != 0) / M_star\n",
    "\n",
    "        # store the initial state\n",
    "        self.history.append(system)\n",
    "\n",
    "        self.SMALL = SMALL\n",
    "\n",
    "        self.time = collections.deque([0.0], maxlen=max_history)\n",
    "\n",
    "        h = self.compute_hill_separation(system)\n",
    "        print(f\"initial minimum relative separation / Hill radius = {h.min()}\")\n",
    "    \n",
    "    def npts(self):\n",
    "        \"\"\"return the number of integration points\"\"\"\n",
    "        return len(self.time)\n",
    "\n",
    "    def compute_hill_separation(self, state):\n",
    "        \"\"\"compute the multiual Hill radius for each pair of planets\"\"\"\n",
    "        h_sep = np.zeros((self.nobjects, self.nobjects))\n",
    "        h_sep[:, :] = np.inf\n",
    "        \n",
    "        # loop over the planets\n",
    "        for p1 in range(1, self.nobjects):\n",
    "            a1 = np.sqrt((state[p1].x - state[0].x)**2 +\n",
    "                         (state[p1].y - state[0].y)**2)   \n",
    "            for p2 in range(1, self.nobjects):\n",
    "                if p1 == p2:\n",
    "                    continue\n",
    "                a2 = np.sqrt((state[p2].x - state[0].x)**2 +\n",
    "                             (state[p2].y - state[0].y)**2)\n",
    "                r_hill = 0.5 * (a1 + a2) * np.cbrt((state[p1].mass +\n",
    "                                                    state[p2].mass) /\n",
    "                                                   (3 * self.M_star))\n",
    "                h_sep[p1, p2] = np.abs(a2 - a1) / r_hill\n",
    "                h_sep[p2, p1] = h_sep[p1, p2]\n",
    "\n",
    "        return h_sep\n",
    "        \n",
    "    def rhs(self, states):\n",
    "        \"\"\"states is (State, State, ...)\"\"\"\n",
    "\n",
    "        ydots = []\n",
    "\n",
    "        for istar in range(len(states)):\n",
    "\n",
    "            # compute the space derivatives\n",
    "\n",
    "            dxdt = states[istar].u\n",
    "            dydt = states[istar].v\n",
    "\n",
    "            # compute the velocity derivatives\n",
    "            dudt = 0.0\n",
    "            dvdt = 0.0\n",
    "\n",
    "            for jstar in range(len(states)):\n",
    "                if istar == jstar:\n",
    "                    continue\n",
    "                else:\n",
    "                    dx = states[jstar].x - states[istar].x\n",
    "                    dy = states[jstar].y - states[istar].y\n",
    "\n",
    "                    r = np.sqrt(dx**2 + dy**2) + self.SMALL\n",
    "\n",
    "                    dudt += self.G * states[jstar].mass * dx / r**3\n",
    "                    dvdt += self.G * states[jstar].mass * dy / r**3\n",
    "\n",
    "            ydots.append(State(states[istar].mass, dxdt, dydt, dudt, dvdt))\n",
    "\n",
    "        return ydots\n",
    "\n",
    "    def single_step_yoshida(self, states_old, dt):\n",
    "        \"\"\"take a single step using the 4th order Yoshida integrator\"\"\"\n",
    "\n",
    "        # we can just work on the \"new\" state directly, so start by\n",
    "        # copying the old to new\n",
    "        states_new = []\n",
    "        for s in states_old:\n",
    "            states_new.append(State(s.mass, s.x, s.y, s.u, s.v))\n",
    "            \n",
    "        # drift with current velocity\n",
    "        for s in states_new:\n",
    "            s.x += self.c[0] * s.u * dt\n",
    "            s.y += self.c[0] * s.v * dt\n",
    "\n",
    "        for i in range(3):\n",
    "            # evaluate the force\n",
    "            ydots = self.rhs(states_new)\n",
    "        \n",
    "            # kick followed by drift\n",
    "            for n, s in enumerate(states_new):\n",
    "                s.u += self.d[i] * ydots[n].u * dt\n",
    "                s.v += self.d[i] * ydots[n].v * dt\n",
    "\n",
    "                s.x += self.c[i+1] * s.u * dt\n",
    "                s.y += self.c[i+1] * s.v * dt\n",
    "\n",
    "        return states_new\n",
    "\n",
    "    def integrate(self, dt, tmax):\n",
    "        \"\"\"integrate our solar system using the velocity-Verlet method\"\"\"\n",
    "\n",
    "        t = self.time[-1]\n",
    "        escaped = False\n",
    "        while t < tmax and not escaped:\n",
    "            \n",
    "            states_old = self.history[-1]\n",
    "\n",
    "            if t + dt > tmax:\n",
    "                dt = tmax-t\n",
    "\n",
    "            states_new = self.single_step_yoshida(states_old, dt)\n",
    "\n",
    "            t += dt\n",
    "            \n",
    "            self.time.append(t)\n",
    "            self.history.append(states_new)\n",
    "\n",
    "            # check if any planet has escaped\n",
    "            for n, s in enumerate(states_new):\n",
    "                if n == 0:\n",
    "                    continue\n",
    "                if np.sqrt(s.x**2 + s.y**2) > self.escape_radius:\n",
    "                    print(f\"planet {n} escaped!\")\n",
    "                    escaped = True\n",
    "                    \n",
    "    def plot(self, draw_original_orbits=True):\n",
    "        fig, ax = plt.subplots()\n",
    "\n",
    "        if draw_original_orbits:\n",
    "            theta = np.radians(np.arange(361))\n",
    "            for n in range(self.nobjects):\n",
    "                ax.plot(self.a_initial[n]*np.cos(theta),\n",
    "                        self.a_initial[n]*np.sin(theta),\n",
    "                        ls=\":\", color=f\"C{n}\")\n",
    "\n",
    "        for n in range(self.nobjects):\n",
    "                    \n",
    "            xs = [q[n].x for q in self.history]\n",
    "            ys = [q[n].y for q in self.history]\n",
    "            if n == 0:\n",
    "                label = \"*\"\n",
    "            else:\n",
    "                label = f\"planet {n}\"\n",
    "            ax.plot(xs, ys, color=f\"C{n}\", label=label)\n",
    "\n",
    "        ax.axis(\"equal\")\n",
    "        ax.legend(fontsize=\"small\")\n",
    "        return fig"
   ]
  },
  {
   "cell_type": "markdown",
   "id": "ad7b4e5e-15ac-4d33-ac0e-c488822e6610",
   "metadata": {},
   "source": [
    "## First integration test\n",
    "\n",
    "We'll start with only 3 planets in the system.  These are picked such that the initial $\\Delta > 3$ for the system."
   ]
  },
  {
   "cell_type": "code",
   "execution_count": 23,
   "id": "d15eeeb8-6246-48e1-a3ee-c7045194e30a",
   "metadata": {},
   "outputs": [],
   "source": [
    "# the system seems stable if we omit planet 3\n",
    "m_planets = [0.0054, 0.0074, 0.0071]\n",
    "a_planets = [71.6, 41.4, 16.3]\n"
   ]
  },
  {
   "cell_type": "code",
   "execution_count": 25,
   "id": "3f6c1c40-7265-49d5-9ed5-313babf3c904",
   "metadata": {},
   "outputs": [
    {
     "name": "stdout",
     "output_type": "stream",
     "text": [
      "initial minimum relative separation / Hill radius = 3.778998530885095\n"
     ]
    }
   ],
   "source": [
    "s = SolarSystem(1.5, m_planets=m_planets, a_planets=a_planets,\n",
    "                escape_radius=1000)"
   ]
  },
  {
   "cell_type": "code",
   "execution_count": 60,
   "id": "c523286b-a406-4916-9da2-6f52e00e230f",
   "metadata": {},
   "outputs": [],
   "source": [
    "s.integrate(0.05, 5000) # 0.05 year steps, run for 5000 years"
   ]
  },
  {
   "cell_type": "code",
   "execution_count": 29,
   "id": "8abd8c38-2603-4b9a-aa2b-215964cbab18",
   "metadata": {},
   "outputs": [
    {
     "data": {
      "image/png": "[encoded data removed]",
      "text/plain": [
       "<Figure size 960x720 with 1 Axes>"
      ]
     },
     "metadata": {},
     "output_type": "display_data"
    }
   ],
   "source": [
    "fig = s.plot()"
   ]
  },
  {
   "cell_type": "markdown",
   "id": "8dfd0402-a4cf-4c13-b5a6-dd8b2acb7635",
   "metadata": {},
   "source": [
    "### Exercise 1\n",
    "\n",
    "Is this 3 planet system stable? "
   ]
  },
  {
   "cell_type": "markdown",
   "id": "1822937f-622b-45b3-808e-fd9a9ed17bd1",
   "metadata": {},
   "source": [
    "*student answer here*"
   ]
  },
  {
   "cell_type": "markdown",
   "id": "a2c2924d-2d3a-4d2b-aca5-707266bef906",
   "metadata": {},
   "source": [
    "### Exercise 2\n",
    "\n",
    "Look at the definition of the three planets involved. Which three planets would these be in our solar system? Justify your answer."
   ]
  },
  {
   "cell_type": "markdown",
   "id": "6d9b4b3b-84b6-4b44-8f3f-06d8fe794cfe",
   "metadata": {},
   "source": [
    "*student answer here*"
   ]
  },
  {
   "cell_type": "markdown",
   "id": "321375f0-3802-4d25-994c-b92c4b2a2b0e",
   "metadata": {},
   "source": [
    "### Exercise 3 - \n",
    "\n",
    "Is this planetary system different from our solar system? And if so, how is this planetary system different from our solar system? "
   ]
  },
  {
   "cell_type": "markdown",
   "id": "46c53dd6-4740-4f46-a497-170e53beb728",
   "metadata": {},
   "source": [
    "*student answer here*"
   ]
  },
  {
   "cell_type": "markdown",
   "id": "eedd7a9a-1d35-404d-9592-6edf1bbdafa1",
   "metadata": {},
   "source": [
    "### Exercise 4 -  The Solar System\n",
    "\n",
    "Make an m_planets list for the four inner rocky planets and the four outer gas giants. Make sure the masses are in *Solar Masses*, meaning you may have to convert the values you find on the internet. Make a matching list of values for the average distances of these planets in AU. \n",
    "\n",
    "Now using the three commands we have used above in the first test, run this Solar System for 500 years. "
   ]
  },
  {
   "cell_type": "code",
   "execution_count": 49,
   "id": "69d828be-51e3-4931-a49a-282595165212",
   "metadata": {},
   "outputs": [],
   "source": [
    "# student work here\n",
    "\n"
   ]
  },
  {
   "cell_type": "markdown",
   "id": "9359b2aa-fef5-4676-bfba-9b176ad74d34",
   "metadata": {},
   "source": [
    "### Exercise 5 - Evaluate the Solar System\n",
    "\n",
    "Is our solar system stable? "
   ]
  },
  {
   "cell_type": "markdown",
   "id": "d48864b6-a7e2-409e-9fa0-693b70ce8d96",
   "metadata": {},
   "source": [
    "*student answer here*"
   ]
  },
  {
   "cell_type": "markdown",
   "id": "62823110-66c0-4fb0-801f-c48245e289cc",
   "metadata": {},
   "source": [
    "# HR 8799 analogue\n",
    "\n",
    "Now we'll add the 4th planet to the HR 8799 analog we looked at first, giving us a system that approximates HR 8799."
   ]
  },
  {
   "cell_type": "code",
   "execution_count": 44,
   "id": "bcfb1fee-2820-46d0-8412-868ef7ba25ce",
   "metadata": {},
   "outputs": [],
   "source": [
    "# these are roughly the HR 8799 planet orbits\n",
    "m_planets = [0.0054, 0.0074, 0.0087, 0.0071]\n",
    "a_planets = [71.6, 41.4, 26.7, 16.3]"
   ]
  },
  {
   "cell_type": "markdown",
   "id": "b7926fd5-e107-4ee8-a57b-c879647b78f2",
   "metadata": {},
   "source": [
    "### Exercise 6 - HR 8799\n",
    "\n",
    "Rerun the SolarSystem instance for HR 8799 but now with 4 planets and integrate it over the same timelapse (50000 year)"
   ]
  },
  {
   "cell_type": "code",
   "execution_count": 54,
   "id": "f389bb55-97f1-4c18-900a-4bf3a29e8732",
   "metadata": {},
   "outputs": [],
   "source": [
    "# student work here\n"
   ]
  },
  {
   "cell_type": "markdown",
   "id": "0e5b0289-74d1-4816-af75-f429eb542247",
   "metadata": {},
   "source": [
    "### Exercise 7 - HR 8799 Initial Conditions\n",
    "\n",
    "Ok maybe that went wrong because we start in a random position. This can be controlled (in a python simulation at least) with the seed keyword. Let's try the above HR 8799 4-planet setup again but randomly seed them differently. Pick a value for the seed input for SolarSystem(). Your age, your pet's age, your favorite prime etc. "
   ]
  },
  {
   "cell_type": "code",
   "execution_count": 56,
   "id": "06bd07e5-c6fd-438f-a053-96b6b430fcab",
   "metadata": {},
   "outputs": [],
   "source": [
    "# student work here\n"
   ]
  },
  {
   "cell_type": "markdown",
   "id": "0ff77383-3803-4ccd-88f3-7513756f92d2",
   "metadata": {},
   "source": [
    "### Exercise 7 - HR 8799 Increasing the spacing\n",
    "\n",
    "Let's try with the same number of planets and masses, but we'll increase the spacing a bit. Same masses for all four planets. Round up or down to the nearest 5 or 10 AU, all the radii above and try again. "
   ]
  },
  {
   "cell_type": "code",
   "execution_count": 58,
   "id": "5b651597-11ef-471e-8db9-eb5a55afe830",
   "metadata": {},
   "outputs": [],
   "source": [
    "# student work here\n"
   ]
  },
  {
   "cell_type": "markdown",
   "id": "3cea4596-ea96-488a-8290-1d67eceb514f",
   "metadata": {},
   "source": [
    "### Exercise 8 - HR 8799 Increased spacing\n",
    "\n",
    "Did that help? What was the Hill radius for this system with increased space between the planetary orbits?"
   ]
  },
  {
   "cell_type": "markdown",
   "id": "3d0eae3a-ce19-48c8-b7eb-d30bb247c53e",
   "metadata": {},
   "source": [
    "*student answer here*"
   ]
  },
  {
   "cell_type": "markdown",
   "id": "ebc7da1f-a35d-4b30-9c6c-8442449666e6",
   "metadata": {},
   "source": [
    "### Exercise 9 - Observing HR 8799 \n",
    "\n",
    "What are the implications if we observe a system like HR 8799? What do your simulations of this system's stability tell you about it and its future?"
   ]
  },
  {
   "cell_type": "markdown",
   "id": "199ee49a-7343-41b4-b4b5-7c4d3d6af636",
   "metadata": {},
   "source": [
    "*student answer here*"
   ]
  },
  {
   "cell_type": "markdown",
   "id": "0d45c392-585f-4cd2-9d0c-e663019e9102",
   "metadata": {},
   "source": [
    "### Exercise 10 - HR 8799 and our own Solar System\n",
    "\n",
    "Based on the simulations above, would you say that the solar system is stable over long periods of time or that it is stable for infinity? "
   ]
  },
  {
   "cell_type": "markdown",
   "id": "2a8a8221-070e-40e4-b60b-34881644f5e3",
   "metadata": {},
   "source": [
    "*student answer here*"
   ]
  },
  {
   "cell_type": "markdown",
   "id": "576496e5-f74f-46fe-8214-2dd786021e02",
   "metadata": {},
   "source": [
    "<hr>"
   ]
  },
  {
   "cell_type": "code",
   "execution_count": null,
   "id": "55c35d3f-9808-4ed5-b48c-1d4864cec8d5",
   "metadata": {},
   "outputs": [],
   "source": []
  }
 ],
 "metadata": {
  "kernelspec": {
   "display_name": "Python 3 (ipykernel)",
   "language": "python",
   "name": "python3"
  },
  "language_info": {
   "codemirror_mode": {
    "name": "ipython",
    "version": 3
   },
   "file_extension": ".py",
   "mimetype": "text/x-python",
   "name": "python",
   "nbconvert_exporter": "python",
   "pygments_lexer": "ipython3",
   "version": "3.12.3"
  }
 },
 "nbformat": 4,
 "nbformat_minor": 5
}
