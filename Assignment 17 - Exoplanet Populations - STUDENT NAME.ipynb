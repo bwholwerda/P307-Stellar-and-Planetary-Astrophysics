{
 "cells": [
  {
   "cell_type": "markdown",
   "id": "1f428c69-df33-4f9b-bc01-124ed4fa26e3",
   "metadata": {},
   "source": [
    "# Exoplanet Archive Population Study\n",
    "\n",
    "## Authors\n",
    "B.W. Holwerda\n",
    "\n",
    "## Learning Goals\n",
    "* Learn about the current exoplanet population\n",
    "* Identify observational biases in the current known population\n",
    "* Compare this population to Solar System planets\n",
    "* Evaluate population statistics of planets and host stars\n",
    "  \n",
    "## Keywords\n",
    "Eoplanets, The Exoplanet Archive, Stellar properties, planet properties\n",
    "\n",
    "## Companion Content\n",
    "\n",
    "Not in Ryden & Peterson\n",
    "\n",
    "Not in Carroll & Ostlie\n",
    "\n",
    "## Summary\n",
    "\n",
    "<hr>"
   ]
  },
  {
   "cell_type": "markdown",
   "id": "0f6e0213-f82b-4210-bf6f-2865eca7be97",
   "metadata": {},
   "source": [
    "\n",
    "## Student Name and ID:\n",
    "\n",
    "\n",
    "\n",
    "## Date:\n",
    "\n",
    "<hr>"
   ]
  },
  {
   "cell_type": "markdown",
   "id": "4006200a-9334-4428-98bd-0f89517d7e76",
   "metadata": {},
   "source": [
    "## Exoplanet Populations\n",
    "\n",
    "The NASA Exoplanet Archive is an online astronomical exoplanet and stellar catalog and data service that collates and cross-correlates astronomical data and information on exoplanets and their host stars, and provides tools to work with these data. The archive is dedicated to collecting and serving important public data sets involved in the search for and characterization of extrasolar planets and their host stars. These data include stellar parameters (such as positions, magnitudes, and temperatures), exoplanet parameters (such as masses and orbital parameters) and discovery/characterization data (such as published radial velocity curves, photometric light curves, images, and spectra).\n",
    "\n",
    "https://exoplanetarchive.ipac.caltech.edu\n",
    "\n",
    "We will use this archive to learn about the population of exoplanets found so far. "
   ]
  },
  {
   "cell_type": "code",
   "execution_count": 6,
   "id": "bef667de-cf38-4ddd-877e-9a1cabad1210",
   "metadata": {},
   "outputs": [],
   "source": [
    "import numpy as np\n",
    "import matplotlib.pyplot as plt\n",
    "\n",
    "from matplotlib import rcParams\n",
    "rcParams[\"savefig.dpi\"] = 150\n",
    "rcParams[\"figure.dpi\"] = 150\n",
    "rcParams[\"font.size\"] = 15"
   ]
  },
  {
   "cell_type": "code",
   "execution_count": 7,
   "id": "d9ca73cc-4ab7-4546-ac5e-f5387d6a0766",
   "metadata": {},
   "outputs": [],
   "source": [
    "# Read in Planet Catalogs\n",
    "\n",
    "from astropy.table import Table\n",
    "import astropy.units as u\n",
    "\n",
    "\n",
    "planets = Table.read('PSCompPars_2025.08.13_11.33.55.csv', format='csv', fast_reader=False)\n"
   ]
  },
  {
   "cell_type": "markdown",
   "id": "5f1bde96-14c6-45d6-aeaa-5588e3eda341",
   "metadata": {},
   "source": [
    "# Planet Information\n",
    "\n",
    "* pl_name:        Planet Name\n",
    "* hostname:       Host Name\n",
    "* default_flag:   Default Parameter Set\n",
    "* sy_snum:        Number of Stars\n",
    "* sy_pnum:        Number of Planets\n",
    "* discoverymethod: Discovery Method\n",
    "* disc_year:      Discovery Year\n",
    "* disc_facility:  Discovery Facility\n",
    "* soltype:        Solution Type\n",
    "* pl_controv_flag: Controversial Flag\n",
    "* pl_refname:     Planetary Parameter Reference\n",
    "* pl_orbper:      Orbital Period [days]\n",
    "* pl_orbpererr1:  Orbital Period Upper Unc. [days]\n",
    "* pl_orbpererr2:  Orbital Period Lower Unc. [days]\n",
    "* pl_orbperlim:   Orbital Period Limit Flag\n",
    "* pl_orbsmax:     Orbit Semi-Major Axis [au]\n",
    "* pl_orbsmaxerr1: Orbit Semi-Major Axis Upper Unc. [au]\n",
    "* pl_orbsmaxerr2: Orbit Semi-Major Axis Lower Unc. [au]\n",
    "* pl_orbsmaxlim:  Orbit Semi-Major Axis Limit Flag\n",
    "* pl_rade:        Planet Radius [Earth Radius]\n",
    "* pl_radeerr1:    Planet Radius Upper Unc. [Earth Radius]\n",
    "* pl_radeerr2:    Planet Radius Lower Unc. [Earth Radius]\n",
    "* pl_radelim:     Planet Radius Limit Flag\n",
    "* pl_radj:        Planet Radius [Jupiter Radius]\n",
    "* pl_radjerr1:    Planet Radius Upper Unc. [Jupiter Radius]\n",
    "* pl_radjerr2:    Planet Radius Lower Unc. [Jupiter Radius]\n",
    "* pl_radjlim:     Planet Radius Limit Flag\n",
    "* pl_bmasse:      Planet Mass or Mass*sin(i) [Earth Mass]\n",
    "* pl_bmasseerr1:  Planet Mass or Mass*sin(i) [Earth Mass] Upper Unc.\n",
    "* pl_bmasseerr2:  Planet Mass or Mass*sin(i) [Earth Mass] Lower Unc.\n",
    "* pl_bmasselim:   Planet Mass or Mass*sin(i) [Earth Mass] Limit Flag\n",
    "* pl_bmassj:      Planet Mass or Mass*sin(i) [Jupiter Mass]\n",
    "* pl_bmassjerr1:  Planet Mass or Mass*sin(i) [Jupiter Mass] Upper Unc.\n",
    "* pl_bmassjerr2:  Planet Mass or Mass*sin(i) [Jupiter Mass] Lower Unc.\n",
    "* pl_bmassjlim:   Planet Mass or Mass*sin(i) [Jupiter Mass] Limit Flag\n",
    "* pl_bmassprov:   Planet Mass or Mass*sin(i) Provenance\n",
    "* pl_orbeccen:    Eccentricity\n",
    "* pl_orbeccenerr1: Eccentricity Upper Unc.\n",
    "* pl_orbeccenerr2: Eccentricity Lower Unc.\n",
    "* pl_orbeccenlim: Eccentricity Limit Flag\n",
    "* pl_insol:       Insolation Flux [Earth Flux]\n",
    "* pl_insolerr1:   Insolation Flux Upper Unc. [Earth Flux]\n",
    "* pl_insolerr2:   Insolation Flux Lower Unc. [Earth Flux]\n",
    "* pl_insollim:    Insolation Flux Limit Flag\n",
    "* pl_eqt:         Equilibrium Temperature [K]\n",
    "* pl_eqterr1:     Equilibrium Temperature Upper Unc. [K]\n",
    "* pl_eqterr2:     Equilibrium Temperature Lower Unc. [K]\n",
    "* pl_eqtlim:      Equilibrium Temperature Limit Flag\n",
    "* ttv_flag:       Data show Transit Timing Variations\n",
    "* st_refname:     Stellar Parameter Reference\n",
    "* st_spectype:    Spectral Type\n",
    "* st_teff:        Stellar Effective Temperature [K]\n",
    "* st_tefferr1:    Stellar Effective Temperature Upper Unc. [K]\n",
    "* st_tefferr2:    Stellar Effective Temperature Lower Unc. [K]\n",
    "* st_tefflim:     Stellar Effective Temperature Limit Flag\n",
    "* st_rad:         Stellar Radius [Solar Radius]\n",
    "* st_raderr1:     Stellar Radius Upper Unc. [Solar Radius]\n",
    "* st_raderr2:     Stellar Radius Lower Unc. [Solar Radius]\n",
    "* st_radlim:      Stellar Radius Limit Flag\n",
    "* st_mass:        Stellar Mass [Solar mass]\n",
    "* st_masserr1:    Stellar Mass Upper Unc. [Solar mass]\n",
    "* st_masserr2:    Stellar Mass Lower Unc. [Solar mass]\n",
    "* st_masslim:     Stellar Mass Limit Flag\n",
    "* st_met:         Stellar Metallicity [dex]\n",
    "* st_meterr1:     Stellar Metallicity Upper Unc. [dex]\n",
    "* st_meterr2:     Stellar Metallicity Lower Unc. [dex]\n",
    "* st_metlim:      Stellar Metallicity Limit Flag\n",
    "* st_metratio:    Stellar Metallicity Ratio\n",
    "* st_logg:        Stellar Surface Gravity [log10(cm/s**2)]\n",
    "* st_loggerr1:    Stellar Surface Gravity Upper Unc. [log10(cm/s**2)]\n",
    "* st_loggerr2:    Stellar Surface Gravity Lower Unc. [log10(cm/s**2)]\n",
    "* st_logglim:     Stellar Surface Gravity Limit Flag\n",
    "* sy_refname:     System Parameter Reference\n",
    "* rastr:          RA [sexagesimal]\n",
    "* ra:             RA [deg]\n",
    "* decstr:         Dec [sexagesimal]\n",
    "* dec:            Dec [deg]\n",
    "* sy_dist:        Distance [pc]\n",
    "* sy_disterr1:    Distance [pc] Upper Unc\n",
    "* sy_disterr2:    Distance [pc] Lower Unc\n",
    "* sy_vmag:        V (Johnson) Magnitude\n",
    "* sy_vmagerr1:    V (Johnson) Magnitude Upper Unc\n",
    "* sy_vmagerr2:    V (Johnson) Magnitude Lower Unc\n",
    "* sy_kmag:        Ks (2MASS) Magnitude\n",
    "* sy_kmagerr1:    Ks (2MASS) Magnitude Upper Unc\n",
    "* sy_kmagerr2:    Ks (2MASS) Magnitude Lower Unc\n",
    "* sy_gaiamag:     Gaia Magnitude\n",
    "* sy_gaiamagerr1: Gaia Magnitude Upper Unc\n",
    "* sy_gaiamagerr2: Gaia Magnitude Lower Unc\n",
    "* rowupdate:      Date of Last Update\n",
    "* pl_pubdate:     Planetary Parameter Reference Publication Date\n",
    "* releasedate:    Release Date\n"
   ]
  },
  {
   "cell_type": "code",
   "execution_count": 11,
   "id": "c50e0175-3773-487b-a25e-95a4026de865",
   "metadata": {},
   "outputs": [
    {
     "data": {
      "text/plain": [
       "<TableColumns names=('pl_name','hostname','sy_snum','sy_pnum','discoverymethod','disc_year','disc_facility','pl_controv_flag','pl_orbper','pl_orbpererr1','pl_orbpererr2','pl_orbperlim','pl_orbsmax','pl_orbsmaxerr1','pl_orbsmaxerr2','pl_orbsmaxlim','pl_rade','pl_radeerr1','pl_radeerr2','pl_radelim','pl_radj','pl_radjerr1','pl_radjerr2','pl_radjlim','pl_bmasse','pl_bmasseerr1','pl_bmasseerr2','pl_bmasselim','pl_bmassj','pl_bmassjerr1','pl_bmassjerr2','pl_bmassjlim','pl_bmassprov','pl_orbeccen','pl_orbeccenerr1','pl_orbeccenerr2','pl_orbeccenlim','pl_insol','pl_insolerr1','pl_insolerr2','pl_insollim','pl_eqt','pl_eqterr1','pl_eqterr2','pl_eqtlim','ttv_flag','st_spectype','st_teff','st_tefferr1','st_tefferr2','st_tefflim','st_rad','st_raderr1','st_raderr2','st_radlim','st_mass','st_masserr1','st_masserr2','st_masslim','st_met','st_meterr1','st_meterr2','st_metlim','st_metratio','st_logg','st_loggerr1','st_loggerr2','st_logglim','rastr','ra','decstr','dec','sy_dist','sy_disterr1','sy_disterr2','sy_vmag','sy_vmagerr1','sy_vmagerr2','sy_kmag','sy_kmagerr1','sy_kmagerr2','sy_gaiamag','sy_gaiamagerr1','sy_gaiamagerr2')>"
      ]
     },
     "execution_count": 11,
     "metadata": {},
     "output_type": "execute_result"
    }
   ],
   "source": [
    "planets.columns"
   ]
  },
  {
   "cell_type": "markdown",
   "id": "1c696c0f-852a-48a0-95df-1cc57d1361ab",
   "metadata": {},
   "source": [
    "### Exercise 1 - Discovery Year and Planetary Mass\n",
    "\n",
    "first let's see when these planets were discovered. Plot the year of discovery against planet mass in Jupiter masses. When did discoveries start and with what mass planets?"
   ]
  },
  {
   "cell_type": "code",
   "execution_count": 14,
   "id": "6404750f-0527-4f9b-ad82-8105b9c08d3f",
   "metadata": {},
   "outputs": [],
   "source": [
    "#student work here\n"
   ]
  },
  {
   "cell_type": "markdown",
   "id": "20390cf7-5d00-4c3a-9e1c-72f5f9dc555d",
   "metadata": {},
   "source": [
    "### Exercise 2 - Mass-Radius Relation\n",
    "\n",
    "Plot the mass-radius relation of the planets discovered. Do you notice something about this relation? Is that a real effect or an artifact in the data?"
   ]
  },
  {
   "cell_type": "code",
   "execution_count": 16,
   "id": "369337b7-c330-4c06-b7e7-ac30ea9d3ed5",
   "metadata": {},
   "outputs": [],
   "source": [
    "# student work here\n"
   ]
  },
  {
   "cell_type": "markdown",
   "id": "aa92120e-2afd-47bb-91a2-9370bc0ba80d",
   "metadata": {},
   "source": [
    "### Exercise 3 - Mass-Orbital Period\n",
    "\n",
    "Plot the mass and orbital period. This may be better plot with a logarithmic axes. Use semilogx or semilogy to change one axis to a logarithmic one. "
   ]
  },
  {
   "cell_type": "code",
   "execution_count": 18,
   "id": "01145f53-a4b7-440f-877d-937cbd01b3ad",
   "metadata": {},
   "outputs": [],
   "source": [
    "# student work here\n"
   ]
  },
  {
   "cell_type": "markdown",
   "id": "d274d81c-dcf8-4509-874d-a16598f4aa6a",
   "metadata": {},
   "source": [
    "### Exercise 4 - Mass-Orbital Period\n",
    "\n",
    "In the distributon of orbital periods, do you notice a pattern? Is that a real pattern or would discovery biases play a role?"
   ]
  },
  {
   "cell_type": "markdown",
   "id": "792af6e9-3525-4b8f-b1ba-09ec29030408",
   "metadata": {},
   "source": [
    "*student written work here*"
   ]
  },
  {
   "cell_type": "markdown",
   "id": "6e3bb3f1-5bab-43a5-b405-cb6886e5a12c",
   "metadata": {},
   "source": [
    "### Exercise 5 - Orbital Period\n",
    "\n",
    "Make a histogram of the log10 of the orbital period (use np.log10 and bins=100). In this histogram, do you see the pattern you noticed in Exercise 4? Do you see anything new? "
   ]
  },
  {
   "cell_type": "code",
   "execution_count": 20,
   "id": "5eea7bb3-155d-4694-8f2f-9061fe956433",
   "metadata": {},
   "outputs": [],
   "source": [
    "#student work here\n"
   ]
  },
  {
   "cell_type": "markdown",
   "id": "e6aa7655-454f-4591-a7cf-78e9e6bfccec",
   "metadata": {},
   "source": [
    "### Exercise 6 - Orbital Period - Density\n",
    "\n",
    "Plot on a log-log scale (plt.loglog instead of plt.plot) the orbital period and the computed density from the mass and the radius. What does a density of unity correspond to?  "
   ]
  },
  {
   "cell_type": "code",
   "execution_count": 22,
   "id": "c72a070d-d2d5-4b9a-9715-3313bab06e97",
   "metadata": {},
   "outputs": [],
   "source": [
    "# student work here\n"
   ]
  },
  {
   "cell_type": "markdown",
   "id": "a76ca622-5209-4c9c-b3db-e482b27a350f",
   "metadata": {},
   "source": [
    "### Exercise 7 - Orbital Period - Density\n",
    "\n",
    "In the catalog of know planets, using the period-density plot from Exercise 6, compare to Jupiter (period=11.86 years). \n",
    "How does the majority of discovered planets compare to Jupiter? Motivate your answer."
   ]
  },
  {
   "cell_type": "markdown",
   "id": "5688bc48-e50c-450b-bf68-b87f5b489ffd",
   "metadata": {},
   "source": [
    "*student written answer here*"
   ]
  },
  {
   "cell_type": "markdown",
   "id": "4c2b8e7a-8438-4e9d-ad2d-7212643a22e3",
   "metadata": {},
   "source": [
    "### Exercise 8 - Color-Magnitude diagram of the Parent stars\n",
    "\n",
    "In the catalog of know planets, there is also information on the parent stars. Plot the V-Ks color against the V-band Magnitude on the y-axis. Keep in mind that *higher* values mean dimmer for the magnitude. \n",
    "\n",
    "If you are a little more skilled with Python, try plotting the effective temperature as the point colors as well. "
   ]
  },
  {
   "cell_type": "code",
   "execution_count": 24,
   "id": "5f3af716-b104-46b3-aa2f-952258f049f5",
   "metadata": {},
   "outputs": [],
   "source": [
    "# student work here\n"
   ]
  },
  {
   "cell_type": "markdown",
   "id": "354e2794-e838-488e-bd66-00bdc11c354e",
   "metadata": {},
   "source": [
    "### Exercise 10 - Effective temperatures of the Parent stars\n",
    "\n",
    "Make a histogram of the parent stars effective temperatures. Recalling the temperatures of stars on the main sequence, does this cover the whole main sequence? Which stellar types does this correspond to? \n",
    "\n",
    "HINT: you can plot the np.log10 of the effective temperature, increase the number of bins with bins=100 and make the y-axis logarithmic with log=True."
   ]
  },
  {
   "cell_type": "code",
   "execution_count": 26,
   "id": "af3fde46-00cf-4977-8349-7025dc74642b",
   "metadata": {},
   "outputs": [],
   "source": [
    "# student work here\n"
   ]
  },
  {
   "cell_type": "markdown",
   "id": "b17ab2ff-d78c-48bd-84f3-fb702d30df23",
   "metadata": {},
   "source": [
    "<hr>"
   ]
  },
  {
   "cell_type": "code",
   "execution_count": null,
   "id": "3d356162-55a8-47d8-a912-78cf4203658a",
   "metadata": {},
   "outputs": [],
   "source": []
  }
 ],
 "metadata": {
  "kernelspec": {
   "display_name": "Python 3 (ipykernel)",
   "language": "python",
   "name": "python3"
  },
  "language_info": {
   "codemirror_mode": {
    "name": "ipython",
    "version": 3
   },
   "file_extension": ".py",
   "mimetype": "text/x-python",
   "name": "python",
   "nbconvert_exporter": "python",
   "pygments_lexer": "ipython3",
   "version": "3.12.3"
  }
 },
 "nbformat": 4,
 "nbformat_minor": 5
}
